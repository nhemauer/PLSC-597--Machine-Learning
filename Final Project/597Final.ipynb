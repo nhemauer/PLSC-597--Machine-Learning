{
 "cells": [
  {
   "cell_type": "code",
   "execution_count": 1,
   "id": "7735e82b-c89d-4b75-a75d-d17dfd0874e7",
   "metadata": {},
   "outputs": [],
   "source": [
    "#https://dataverse.harvard.edu/dataset.xhtml?persistentId=doi:10.7910/DVN/ZABHCA\n",
    "import numpy as np\n",
    "import pandas as pd\n",
    "import matplotlib.pyplot as plt\n",
    "from sklearn.model_selection import train_test_split\n",
    "import csv"
   ]
  },
  {
   "cell_type": "code",
   "execution_count": 2,
   "id": "73976e29-7d5e-4d0c-8b54-77b011a57e3a",
   "metadata": {},
   "outputs": [],
   "source": [
    "with open('597Final.csv', mode = \"r\") as qualData:     #Importing data from CSV file\n",
    "    qualData = csv.reader(qualData)\n",
    "    qualData = pd.DataFrame(qualData)\n",
    "    qualData = qualData.iloc[1:, :]"
   ]
  },
  {
   "cell_type": "code",
   "execution_count": 12,
   "id": "8dc61e87-3c73-4c92-95b0-671f439f14b7",
   "metadata": {},
   "outputs": [],
   "source": [
    "#Logistic Regression Without Depression Variable\n",
    "\n",
    "from sklearn.linear_model import LogisticRegression\n",
    "from sklearn.preprocessing import StandardScaler\n",
    "from sklearn.model_selection import train_test_split\n",
    "from sklearn.metrics import mean_squared_error, mean_absolute_error, r2_score\n",
    "from sklearn.metrics import accuracy_score, classification_report, confusion_matrix\n",
    "from sklearn.inspection import permutation_importance\n",
    "\n",
    "X = qualData[[2, 3, 4, 5, 6, 7, 8, 9, 10]] #Variables other than depression\n",
    "y = qualData[[1]] #Voter turnout is the target variable\n",
    "\n",
    "X = X.rename(columns = {2: \"Female\", 3: \"Age\", 4: \"Education\", 5: \"Hispanic\", 6: \"Black\", 7: \"Income\", 8: \"Married\", 9: \"ChurchAttend\", 10: \"Unemployed\"})\n",
    "\n",
    "# Split the data into training and testing sets\n",
    "X_train, X_test, y_train, y_test = train_test_split(X, y, test_size = 0.3, random_state = 1337)"
   ]
  },
  {
   "cell_type": "code",
   "execution_count": 4,
   "id": "8854d108-c93a-4195-81b6-759f0e51a779",
   "metadata": {},
   "outputs": [
    {
     "name": "stdout",
     "output_type": "stream",
     "text": [
      "Training Logistic Regression Accuracy: 0.6516220028208745\n",
      "Test Mean Squared Error: 0.36\n",
      "Test R-squared: -0.56\n",
      "Test Logistic Regression Accuracy: 0.639344262295082\n"
     ]
    }
   ],
   "source": [
    "\n",
    "lr = LogisticRegression()              #Logistic Regression\n",
    "sc = StandardScaler()                  #Scale Data\n",
    "\n",
    "sc.fit(X_train)\n",
    "X_train_std = sc.transform(X_train)\n",
    "y_train_std = np.ravel(y_train)\n",
    "\n",
    "y_train = pd.DataFrame(y_train)\n",
    "X_train = pd.DataFrame(X_train)\n",
    "\n",
    "y_train.dropna\n",
    "X_train.dropna\n",
    "\n",
    "lr.fit(X_train_std, y_train_std)\n",
    "\n",
    "print(\"Training Logistic Regression Accuracy:\", lr.score(X_train, y_train))\n",
    "\n",
    "# Make predictions on the test data                        \n",
    "y_pred = lr.predict(X_test)\n",
    "\n",
    "# Evaluate the model\n",
    "mse = mean_squared_error(y_test, y_pred)\n",
    "r2 = r2_score(y_test, y_pred)\n",
    "\n",
    "print(f\"Test Mean Squared Error: {mse:.2f}\")\n",
    "print(f\"Test R-squared: {r2:.2f}\")\n",
    "print(\"Test Logistic Regression Accuracy:\", lr.score(X_test, y_test))\n"
   ]
  },
  {
   "cell_type": "code",
   "execution_count": 5,
   "id": "de44ddc8-9003-4092-af1b-ec215e8d182e",
   "metadata": {},
   "outputs": [],
   "source": [
    "#Logistic Regression With Depression Variable\n",
    "\n",
    "XX = qualData[[0, 2, 3, 4, 5, 6, 7, 8, 9, 10]] #Variables including Depression\n",
    "yy = qualData[[1]] #Voter turnout is the target variable\n",
    "\n",
    "XX = XX.rename(columns = {0: \"Depression\", 2: \"Female\", 3: \"Age\", 4: \"Education\", 5: \"Hispanic\", 6: \"Black\", 7: \"Income\", 8: \"Married\", 9: \"ChurchAttend\", 10: \"Unemployed\"})\n",
    "\n",
    "# Split the data into training and testing sets\n",
    "X_train2, X_test2, y_train2, y_test2 = train_test_split(XX, yy, test_size = 0.3, random_state = 1337)"
   ]
  },
  {
   "cell_type": "code",
   "execution_count": 6,
   "id": "f69e134c-a116-46d6-909b-0bf932f02ac1",
   "metadata": {},
   "outputs": [
    {
     "name": "stdout",
     "output_type": "stream",
     "text": [
      "Training Logistic Regression Accuracy: 0.6516220028208745\n",
      "Test Mean Squared Error: 0.36\n",
      "Test R-squared: -0.56\n",
      "Test Logistic Regression Accuracy: 0.639344262295082\n"
     ]
    }
   ],
   "source": [
    "\n",
    "lr2 = LogisticRegression()              #Logistic Regression\n",
    "sc2 = StandardScaler()                  #Scale Data\n",
    "\n",
    "sc2.fit(X_train2)\n",
    "X_train_std2 = sc2.transform(X_train2)\n",
    "y_train_std2 = np.ravel(y_train2)\n",
    "\n",
    "y_train2 = pd.DataFrame(y_train2)\n",
    "X_train2 = pd.DataFrame(X_train2)\n",
    "\n",
    "y_train2.dropna\n",
    "X_train2.dropna\n",
    "\n",
    "lr2.fit(X_train_std2, y_train_std2)\n",
    "\n",
    "print(\"Training Logistic Regression Accuracy:\", lr2.score(X_train2, y_train2))\n",
    "\n",
    "# Make predictions on the test data                        \n",
    "y_pred2 = lr2.predict(X_test2)\n",
    "\n",
    "# Evaluate the model\n",
    "mse2 = mean_squared_error(y_test2, y_pred2)\n",
    "r22 = r2_score(y_test2, y_pred2)\n",
    "\n",
    "print(f\"Test Mean Squared Error: {mse2:.2f}\")\n",
    "print(f\"Test R-squared: {r22:.2f}\")\n",
    "print(\"Test Logistic Regression Accuracy:\", lr2.score(X_test2, y_test2))"
   ]
  },
  {
   "cell_type": "code",
   "execution_count": 13,
   "id": "ede63434-4c41-45fb-95b7-cf7cc0c5fb07",
   "metadata": {},
   "outputs": [
    {
     "name": "stderr",
     "output_type": "stream",
     "text": [
      "/swst/apps/anaconda3/2021.05_gcc-8.5.0/lib/python3.8/site-packages/sklearn/utils/validation.py:63: DataConversionWarning: A column-vector y was passed when a 1d array was expected. Please change the shape of y to (n_samples, ), for example using ravel().\n",
      "  return f(*args, **kwargs)\n"
     ]
    },
    {
     "name": "stdout",
     "output_type": "stream",
     "text": [
      "Accuracy: 0.7311475409836066\n",
      "\n",
      "Classification Report:\n",
      "               precision    recall  f1-score   support\n",
      "\n",
      "           0       0.68      0.48      0.56       110\n",
      "           1       0.75      0.87      0.81       195\n",
      "\n",
      "    accuracy                           0.73       305\n",
      "   macro avg       0.71      0.68      0.68       305\n",
      "weighted avg       0.72      0.73      0.72       305\n",
      "\n",
      "[ 0.00065574  0.11081967 -0.00327869 -0.00327869  0.00327869  0.00852459\n",
      "  0.          0.00131148  0.        ]\n"
     ]
    },
    {
     "data": {
      "image/png": "[encoded data removed]",
      "text/plain": [
       "<Figure size 432x288 with 1 Axes>"
      ]
     },
     "metadata": {
      "needs_background": "light"
     },
     "output_type": "display_data"
    }
   ],
   "source": [
    "#SVM code without Depression\n",
    "\n",
    "from sklearn.svm import SVC\n",
    "\n",
    "# Create an SVM model (in this case, a linear SVM)\n",
    "svm = SVC(kernel = 'linear', C=1.0, random_state=1)\n",
    "\n",
    "# Train the SVM model on the training data\n",
    "svm.fit(X_train, y_train)\n",
    "\n",
    "# Make predictions on the test data\n",
    "y_pred = svm.predict(X_test)\n",
    "\n",
    "# Evaluate the model\n",
    "accuracy = accuracy_score(y_test, y_pred)\n",
    "print(\"Accuracy:\", accuracy)\n",
    "\n",
    "# Print a classification report\n",
    "report = classification_report(y_test, y_pred)\n",
    "print(\"\\nClassification Report:\\n\", report)\n",
    "\n",
    "perm_importance = permutation_importance(svm, X_test, y_test)\n",
    "\n",
    "# Access the importance scores\n",
    "feature_perm = perm_importance.importances_mean\n",
    "\n",
    "print(feature_perm)\n",
    "\n",
    "#Graphing the most important features\n",
    "\n",
    "sorted_importances_idx = perm_importance.importances_mean.argsort()\n",
    "importances = pd.DataFrame(\n",
    "    perm_importance.importances[sorted_importances_idx].T,\n",
    "    columns=X.columns[sorted_importances_idx],)\n",
    "\n",
    "SVMP = importances.plot.box(vert=False, whis=10)\n",
    "SVMP.set_title(\"Permutation Importances (test set)\")\n",
    "SVMP.axvline(x=0, color=\"k\", linestyle=\"--\")\n",
    "SVMP.set_xlabel(\"Decrease in accuracy score\")\n",
    "SVMP.figure.tight_layout()\n"
   ]
  },
  {
   "cell_type": "code",
   "execution_count": 9,
   "id": "755f1c74-611d-4145-95e3-fcbf4710330e",
   "metadata": {},
   "outputs": [
    {
     "name": "stderr",
     "output_type": "stream",
     "text": [
      "/swst/apps/anaconda3/2021.05_gcc-8.5.0/lib/python3.8/site-packages/sklearn/utils/validation.py:63: DataConversionWarning: A column-vector y was passed when a 1d array was expected. Please change the shape of y to (n_samples, ), for example using ravel().\n",
      "  return f(*args, **kwargs)\n"
     ]
    },
    {
     "name": "stdout",
     "output_type": "stream",
     "text": [
      "Accuracy: 0.7245901639344262\n",
      "\n",
      "Classification Report:\n",
      "               precision    recall  f1-score   support\n",
      "\n",
      "           0       0.66      0.48      0.56       110\n",
      "           1       0.75      0.86      0.80       195\n",
      "\n",
      "    accuracy                           0.72       305\n",
      "   macro avg       0.70      0.67      0.68       305\n",
      "weighted avg       0.72      0.72      0.71       305\n",
      "\n",
      "[-0.01967213  0.00065574  0.06032787 -0.00852459 -0.00065574 -0.00262295\n",
      " -0.00918033 -0.00918033 -0.01245902  0.00131148]\n"
     ]
    },
    {
     "data": {
      "image/png": "[encoded data removed]",
      "text/plain": [
       "<Figure size 432x288 with 1 Axes>"
      ]
     },
     "metadata": {
      "needs_background": "light"
     },
     "output_type": "display_data"
    }
   ],
   "source": [
    "#SVM code with Depression\n",
    "\n",
    "from sklearn.svm import SVC\n",
    "\n",
    "# Create an SVM model (in this case, a linear SVM)\n",
    "svm = SVC(kernel = 'linear', C=1.0, random_state=1)\n",
    "\n",
    "# Train the SVM model on the training data\n",
    "svm.fit(X_train2, y_train2)\n",
    "\n",
    "# Make predictions on the test data\n",
    "y_pred2 = svm.predict(X_test2)\n",
    "\n",
    "# Evaluate the model\n",
    "accuracy = accuracy_score(y_test2, y_pred2)\n",
    "print(\"Accuracy:\", accuracy)\n",
    "\n",
    "# Print a classification report\n",
    "report = classification_report(y_test2, y_pred2)\n",
    "print(\"\\nClassification Report:\\n\", report)\n",
    "\n",
    "# Calculate permutation importance\n",
    "\n",
    "from sklearn.inspection import permutation_importance\n",
    "\n",
    "perm_importance = permutation_importance(svm, X_test2, y_test2)\n",
    "\n",
    "# Access the importance scores\n",
    "feature_perm = perm_importance.importances_mean\n",
    "\n",
    "print(feature_perm)\n",
    "\n",
    "#Graphing the most important features\n",
    "\n",
    "sorted_importances_idx = perm_importance.importances_mean.argsort()\n",
    "importances = pd.DataFrame(\n",
    "    perm_importance.importances[sorted_importances_idx].T,\n",
    "    columns=XX.columns[sorted_importances_idx],)\n",
    "\n",
    "SVMP = importances.plot.box(vert=False, whis=10)\n",
    "SVMP.set_title(\"Depression Permutation Importances (test set)\")\n",
    "SVMP.axvline(x=0, color=\"k\", linestyle=\"--\")\n",
    "SVMP.set_xlabel(\"Decrease in accuracy score\")\n",
    "SVMP.figure.tight_layout()"
   ]
  },
  {
   "cell_type": "code",
   "execution_count": 10,
   "id": "21160d2b-5425-409b-93be-6ef09ed242f3",
   "metadata": {},
   "outputs": [
    {
     "name": "stderr",
     "output_type": "stream",
     "text": [
      "<ipython-input-10-15c263a32804>:6: DataConversionWarning: A column-vector y was passed when a 1d array was expected. Please change the shape of y to (n_samples,), for example using ravel().\n",
      "  clf.fit(X_train, y_train) #Training the algorithm using the training set\n"
     ]
    },
    {
     "name": "stdout",
     "output_type": "stream",
     "text": [
      "Accuracy: 0.69\n",
      "              precision    recall  f1-score   support\n",
      "\n",
      "           0       0.57      0.55      0.56       110\n",
      "           1       0.75      0.76      0.76       195\n",
      "\n",
      "    accuracy                           0.69       305\n",
      "   macro avg       0.66      0.65      0.66       305\n",
      "weighted avg       0.68      0.69      0.68       305\n",
      "\n",
      "[ 0.00262295  0.05245902  0.0295082  -0.00590164  0.00459016  0.01245902\n",
      " -0.00459016 -0.00131148 -0.00786885]\n"
     ]
    },
    {
     "data": {
      "image/png": "[encoded data removed]",
      "text/plain": [
       "<Figure size 432x288 with 1 Axes>"
      ]
     },
     "metadata": {
      "needs_background": "light"
     },
     "output_type": "display_data"
    }
   ],
   "source": [
    "#random forest code without depression\n",
    "\n",
    "from sklearn.ensemble import RandomForestClassifier\n",
    "\n",
    "clf = RandomForestClassifier(n_estimators=100, random_state=42) # n_estimators determines the number of decision trees that will be created\n",
    "clf.fit(X_train, y_train) #Training the algorithm using the training set\n",
    "y_pred = clf.predict(X_test) # predicting attrition outcomes from the x variables in the testing set\n",
    "\n",
    "#Calculating accuracy scores\n",
    "\n",
    "accuracy = accuracy_score(y_test, y_pred)\n",
    "print(f'Accuracy: {accuracy:.2f}')\n",
    "\n",
    "report = classification_report(y_test, y_pred)\n",
    "print(report)\n",
    "\n",
    "# Calculate permutation importance\n",
    "perm_importance = permutation_importance(clf, X_test, y_test)\n",
    "\n",
    "# Access the importance scores\n",
    "feature_perm = perm_importance.importances_mean\n",
    "\n",
    "print(feature_perm)\n",
    "\n",
    "#Graphing the most important features\n",
    "\n",
    "sorted_importances_idx = perm_importance.importances_mean.argsort()\n",
    "importances = pd.DataFrame(\n",
    "    perm_importance.importances[sorted_importances_idx].T,\n",
    "    columns=X.columns[sorted_importances_idx],)\n",
    "\n",
    "SVMP = importances.plot.box(vert=False, whis=10)\n",
    "SVMP.set_title(\"Permutation Importances (test set)\")\n",
    "SVMP.axvline(x=0, color=\"k\", linestyle=\"--\")\n",
    "SVMP.set_xlabel(\"Decrease in accuracy score\")\n",
    "SVMP.figure.tight_layout()"
   ]
  },
  {
   "cell_type": "code",
   "execution_count": 11,
   "id": "55e0ac3f-4e9a-48fd-8d86-5356054c9192",
   "metadata": {},
   "outputs": [
    {
     "name": "stderr",
     "output_type": "stream",
     "text": [
      "<ipython-input-11-a8fbcc5ce7a4>:6: DataConversionWarning: A column-vector y was passed when a 1d array was expected. Please change the shape of y to (n_samples,), for example using ravel().\n",
      "  clf.fit(X_train2, y_train2) #Training the algorithm using the training set\n"
     ]
    },
    {
     "name": "stdout",
     "output_type": "stream",
     "text": [
      "Accuracy: 0.73\n",
      "              precision    recall  f1-score   support\n",
      "\n",
      "           0       0.65      0.55      0.59       110\n",
      "           1       0.77      0.84      0.80       195\n",
      "\n",
      "    accuracy                           0.73       305\n",
      "   macro avg       0.71      0.69      0.70       305\n",
      "weighted avg       0.72      0.73      0.73       305\n",
      "\n",
      "[ 0.02819672  0.01245902  0.07606557  0.05508197 -0.00590164  0.00983607\n",
      "  0.01639344  0.00262295  0.0104918   0.00655738]\n"
     ]
    },
    {
     "data": {
      "image/png": "[encoded data removed]",
      "text/plain": [
       "<Figure size 432x288 with 1 Axes>"
      ]
     },
     "metadata": {
      "needs_background": "light"
     },
     "output_type": "display_data"
    }
   ],
   "source": [
    "#random forest code with depression\n",
    "\n",
    "from sklearn.ensemble import RandomForestClassifier\n",
    "\n",
    "clf = RandomForestClassifier(n_estimators = 100, random_state = 42) # n_estimators determines the number of decision trees that will be created\n",
    "clf.fit(X_train2, y_train2) #Training the algorithm using the training set\n",
    "y_pred2 = clf.predict(X_test2) # predicting attrition outcomes from the x variables in the testing set\n",
    "\n",
    "#Calculating accuracy scores\n",
    "\n",
    "accuracy = accuracy_score(y_test2, y_pred2)\n",
    "print(f'Accuracy: {accuracy:.2f}')\n",
    "\n",
    "report = classification_report(y_test2, y_pred2)\n",
    "print(report)\n",
    "\n",
    "# Calculate permutation importance\n",
    "perm_importance = permutation_importance(clf, X_test2, y_test2)\n",
    "\n",
    "# Access the importance scores\n",
    "feature_perm = perm_importance.importances_mean\n",
    "\n",
    "print(feature_perm)\n",
    "\n",
    "#Graphing the most important features\n",
    "\n",
    "sorted_importances_idx = perm_importance.importances_mean.argsort()\n",
    "importances = pd.DataFrame(\n",
    "    perm_importance.importances[sorted_importances_idx].T,\n",
    "    columns=XX.columns[sorted_importances_idx],)\n",
    "\n",
    "SVMP = importances.plot.box(vert=False, whis=10)\n",
    "SVMP.set_title(\"Depression Permutation Importances (test set)\")\n",
    "SVMP.axvline(x=0, color=\"k\", linestyle=\"--\")\n",
    "SVMP.set_xlabel(\"Decrease in accuracy score\")\n",
    "SVMP.figure.tight_layout()"
   ]
  },
  {
   "cell_type": "code",
   "execution_count": 42,
   "id": "82b9e414-8495-4da3-9f85-52fde3a8ba4e",
   "metadata": {},
   "outputs": [
    {
     "name": "stderr",
     "output_type": "stream",
     "text": [
      "/swst/apps/anaconda3/2021.05_gcc-8.5.0/lib/python3.8/site-packages/sklearn/neighbors/_classification.py:179: DataConversionWarning: A column-vector y was passed when a 1d array was expected. Please change the shape of y to (n_samples,), for example using ravel().\n",
      "  return self._fit(X, y)\n"
     ]
    },
    {
     "name": "stdout",
     "output_type": "stream",
     "text": [
      "Accuracy: 0.71\n",
      "              precision    recall  f1-score   support\n",
      "\n",
      "           0       0.60      0.57      0.59       110\n",
      "           1       0.77      0.78      0.77       195\n",
      "\n",
      "    accuracy                           0.71       305\n",
      "   macro avg       0.68      0.68      0.68       305\n",
      "weighted avg       0.71      0.71      0.71       305\n",
      "\n",
      "[ 0.00852459  0.10295082  0.01245902 -0.00131148 -0.00655738  0.05967213\n",
      "  0.00196721  0.03934426 -0.00327869]\n"
     ]
    },
    {
     "data": {
      "image/png": "[encoded data removed]",
      "text/plain": [
       "<Figure size 432x288 with 1 Axes>"
      ]
     },
     "metadata": {
      "needs_background": "light"
     },
     "output_type": "display_data"
    }
   ],
   "source": [
    "#KNN without depression\n",
    "\n",
    "from sklearn.neighbors import KNeighborsClassifier\n",
    "\n",
    "knn = KNeighborsClassifier(n_neighbors=5)\n",
    "knn.fit(X_train, y_train)\n",
    "\n",
    "y_pred = knn.predict(X_test)\n",
    "\n",
    "accuracy = accuracy_score(y_test, y_pred)\n",
    "print(f'Accuracy: {accuracy:.2f}')\n",
    "\n",
    "report = classification_report(y_test, y_pred)\n",
    "print(report)\n",
    "\n",
    "#Finding the most important features\n",
    "\n",
    "perm_importance = permutation_importance(knn, X_test, y_test)\n",
    "\n",
    "# Access the importance scores\n",
    "feature_perm = perm_importance.importances_mean\n",
    "\n",
    "print(feature_perm)\n",
    "\n",
    "#Graphing the most important features\n",
    "\n",
    "sorted_importances_idx = perm_importance.importances_mean.argsort()\n",
    "importances = pd.DataFrame(\n",
    "    perm_importance.importances[sorted_importances_idx].T,\n",
    "    columns=X.columns[sorted_importances_idx],)\n",
    "\n",
    "SVMP = importances.plot.box(vert=False, whis=10)\n",
    "SVMP.set_title(\"Permutation Importances (test set)\")\n",
    "SVMP.axvline(x=0, color=\"k\", linestyle=\"--\")\n",
    "SVMP.set_xlabel(\"Decrease in accuracy score\")\n",
    "SVMP.figure.tight_layout()"
   ]
  },
  {
   "cell_type": "code",
   "execution_count": 43,
   "id": "00107825-97e3-42f0-9588-30ef9e905903",
   "metadata": {},
   "outputs": [
    {
     "name": "stderr",
     "output_type": "stream",
     "text": [
      "/swst/apps/anaconda3/2021.05_gcc-8.5.0/lib/python3.8/site-packages/sklearn/neighbors/_classification.py:179: DataConversionWarning: A column-vector y was passed when a 1d array was expected. Please change the shape of y to (n_samples,), for example using ravel().\n",
      "  return self._fit(X, y)\n"
     ]
    },
    {
     "name": "stdout",
     "output_type": "stream",
     "text": [
      "Accuracy: 0.70\n",
      "              precision    recall  f1-score   support\n",
      "\n",
      "           0       0.59      0.55      0.57       110\n",
      "           1       0.75      0.78      0.77       195\n",
      "\n",
      "    accuracy                           0.70       305\n",
      "   macro avg       0.67      0.67      0.67       305\n",
      "weighted avg       0.69      0.70      0.70       305\n",
      "\n",
      "[-7.86885246e-03 -1.31147541e-03  1.05573770e-01  1.90163934e-02\n",
      " -2.22044605e-17 -2.22044605e-17  4.26229508e-02  3.93442623e-03\n",
      "  5.24590164e-03  4.59016393e-03]\n"
     ]
    },
    {
     "data": {
      "image/png": "[encoded data removed]",
      "text/plain": [
       "<Figure size 432x288 with 1 Axes>"
      ]
     },
     "metadata": {
      "needs_background": "light"
     },
     "output_type": "display_data"
    }
   ],
   "source": [
    "#KNN with depression\n",
    "\n",
    "from sklearn.neighbors import KNeighborsClassifier\n",
    "\n",
    "knn = KNeighborsClassifier(n_neighbors=5)\n",
    "knn.fit(X_train2, y_train2)\n",
    "\n",
    "y_pred2 = knn.predict(X_test2)\n",
    "\n",
    "accuracy = accuracy_score(y_test2, y_pred2)\n",
    "print(f'Accuracy: {accuracy:.2f}')\n",
    "\n",
    "report = classification_report(y_test2, y_pred2)\n",
    "print(report)\n",
    "\n",
    "#Finding the most important features\n",
    "\n",
    "perm_importance = permutation_importance(knn, X_test2, y_test2)\n",
    "\n",
    "# Access the importance scores\n",
    "feature_perm = perm_importance.importances_mean\n",
    "\n",
    "print(feature_perm)\n",
    "\n",
    "#Graphing the most important features\n",
    "\n",
    "sorted_importances_idx = perm_importance.importances_mean.argsort()\n",
    "importances = pd.DataFrame(\n",
    "    perm_importance.importances[sorted_importances_idx].T,\n",
    "    columns=XX.columns[sorted_importances_idx],)\n",
    "\n",
    "SVMP = importances.plot.box(vert=False, whis=10)\n",
    "SVMP.set_title(\"Depression Permutation Importances (test set)\")\n",
    "SVMP.axvline(x=0, color=\"k\", linestyle=\"--\")\n",
    "SVMP.set_xlabel(\"Decrease in accuracy score\")\n",
    "SVMP.figure.tight_layout()"
   ]
  },
  {
   "cell_type": "code",
   "execution_count": null,
   "id": "82d88b9c-ef0d-4ad1-abf5-ad6fd285c89b",
   "metadata": {},
   "outputs": [],
   "source": []
  }
 ],
 "metadata": {
  "kernelspec": {
   "display_name": "Python 3",
   "language": "python",
   "name": "python3"
  },
  "language_info": {
   "codemirror_mode": {
    "name": "ipython",
    "version": 3
   },
   "file_extension": ".py",
   "mimetype": "text/x-python",
   "name": "python",
   "nbconvert_exporter": "python",
   "pygments_lexer": "ipython3",
   "version": "3.8.8"
  }
 },
 "nbformat": 4,
 "nbformat_minor": 5
}
