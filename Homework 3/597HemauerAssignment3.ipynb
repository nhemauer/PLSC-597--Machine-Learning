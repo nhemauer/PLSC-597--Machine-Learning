{
 "cells": [
  {
   "cell_type": "code",
   "execution_count": 88,
   "id": "54e9b5d3-63fc-4bbf-9da3-65482c5f6fce",
   "metadata": {},
   "outputs": [],
   "source": [
    "import numpy as np\n",
    "import pandas as pd\n",
    "import matplotlib.pyplot as plt\n",
    "from sklearn.model_selection import train_test_split\n",
    "import csv"
   ]
  },
  {
   "cell_type": "code",
   "execution_count": 89,
   "id": "c11b4470-b46c-4d40-937e-1f42fea13c5f",
   "metadata": {},
   "outputs": [
    {
     "name": "stdout",
     "output_type": "stream",
     "text": [
      "         0    1    2    3    4    5    6    7    8    9  ... Hispanic Black  \\\n",
      "1        2  3.0  1.0  2.0  3.0  4.0  2.0  1.0  3.0  3.0  ...      0.0   0.0   \n",
      "2        3  2.0  2.0  2.0  3.0  2.0  2.0  2.0  3.0  2.0  ...      0.0   0.0   \n",
      "3        4  3.0  3.0  4.0  2.0  2.0  4.0  2.0  3.0  2.0  ...      0.0   0.0   \n",
      "4        5  3.0  2.0  3.0  2.0  3.0  1.0  3.0  2.0  3.0  ...      0.0   1.0   \n",
      "5        6  1.0  1.0  1.0  1.0  1.0  1.0  2.0  1.0  1.0  ...      0.0   0.0   \n",
      "...    ...  ...  ...  ...  ...  ...  ...  ...  ...  ...  ...      ...   ...   \n",
      "1010  1011  2.0  1.0  4.0  2.0  1.0  4.0  3.0  4.0  4.0  ...      0.0   0.0   \n",
      "1011  1012  1.0  1.0  2.0  2.0  1.0  1.0  2.0  3.0  2.0  ...      0.0   0.0   \n",
      "1012  1013  3.0  1.0  3.0  1.0  3.0  2.0  3.0  1.0  1.0  ...      0.0   0.0   \n",
      "1013  1014  2.0  2.0  2.0  1.0  3.0  3.0  2.0  2.0  2.0  ...      0.0   0.0   \n",
      "1014  1015  3.0  1.0  1.0  4.0  3.0  3.0  2.0  4.0  3.0  ...      0.0   0.0   \n",
      "\n",
      "     Income Married Attend Unemployed          32    33    34          35  \n",
      "1       9.0     0.0    4.0        0.0         1.0   0.5  0.75        0.75  \n",
      "2       5.0     0.0    1.0        0.0  0.33333334   0.5   0.5  0.44444445  \n",
      "3       4.0     0.0    1.0        0.0   0.6666667  0.75   1.0   0.8055556  \n",
      "4       2.0     0.0    2.0        0.0  0.33333334   0.5   0.5  0.44444445  \n",
      "5      12.0     0.0    1.0        0.0  0.33333334   0.0   0.0  0.11111111  \n",
      "...     ...     ...    ...        ...         ...   ...   ...         ...  \n",
      "1010    4.0     1.0    1.0        1.0   0.6666667   1.0   0.5   0.7222222  \n",
      "1011    4.0     0.0    4.0        1.0         0.0  0.25   1.0  0.41666666  \n",
      "1012    1.0     0.0    5.0        0.0         1.0  0.25  0.25         0.5  \n",
      "1013    4.0     0.0    1.0        0.0  0.33333334   0.5  0.75   0.5277778  \n",
      "1014    2.0     0.0    1.0        1.0         1.0  0.25  0.25         0.5  \n",
      "\n",
      "[1014 rows x 36 columns]\n"
     ]
    }
   ],
   "source": [
    "with open('Homework3Data597.csv', mode = \"r\") as qualData:     #Importing data from CSV file\n",
    "    qualData = csv.reader(qualData)\n",
    "    qualData = pd.DataFrame(qualData)\n",
    "\n",
    "qualData = qualData.tail(-1)\n",
    "mapping = {qualData.columns[21]: 'Depression', qualData.columns[23]: 'Female', qualData.columns[24]: 'Age', qualData.columns[25]: 'Educ', qualData.columns[28]: 'Income', qualData.columns[30]: 'Attend', qualData.columns[29]: 'Married', qualData.columns[31]: 'Unemployed', qualData.columns[27]: 'Black', qualData.columns[26]: 'Hispanic'}\n",
    "qualData = qualData.rename(columns=mapping)\n",
    "\n",
    "print(qualData)"
   ]
  },
  {
   "cell_type": "code",
   "execution_count": 90,
   "id": "e1d776cc-8646-418a-9acd-91fba69544ad",
   "metadata": {},
   "outputs": [],
   "source": [
    "from sklearn.linear_model import LogisticRegression\n",
    "from sklearn.preprocessing import StandardScaler\n",
    "from sklearn.cluster import KMeans\n",
    "\n",
    "X = qualData[[\"Depression\", \"Female\", \"Age\", \"Educ\", \"Income\", \"Attend\", \"Married\", \"Unemployed\", \"Black\", \"Hispanic\"]]\n",
    "y = qualData[[22]] #Voter turnout is the target variable\n",
    "\n",
    "sc = StandardScaler()                  #Scale Data\n",
    "sc.fit(X)\n",
    "X_std = sc.transform(X)\n",
    "\n",
    "X_std = pd.DataFrame(X_std)\n",
    "X_std2 = X_std[[1, 2, 3, 4, 7, 8, 9]]\n"
   ]
  },
  {
   "cell_type": "code",
   "execution_count": 91,
   "id": "1fe7e18f-4bfb-49ea-90d0-95c458fa9f0f",
   "metadata": {},
   "outputs": [
    {
     "data": {
      "image/png": "[encoded data removed]",
      "text/plain": [
       "<Figure size 432x288 with 1 Axes>"
      ]
     },
     "metadata": {
      "needs_background": "light"
     },
     "output_type": "display_data"
    }
   ],
   "source": [
    "# Based on within-cluster SSE, find the \"elbow\"\n",
    "\n",
    "distortions = []\n",
    "for i in range(1, 11):\n",
    "    km = KMeans(n_clusters=i,\n",
    "                init='k-means++',\n",
    "                n_init=10,\n",
    "                max_iter=300,\n",
    "                random_state=0)\n",
    "    km.fit(X_std2)\n",
    "    distortions.append(km.inertia_)\n",
    "plt.plot(range(1,11), distortions, marker='o')\n",
    "plt.xlabel('Number of clusters')\n",
    "plt.ylabel('Distortion')\n",
    "plt.tight_layout()\n",
    "plt.show()"
   ]
  },
  {
   "cell_type": "code",
   "execution_count": 94,
   "id": "6c9ca955-2650-497d-9f73-099acacf41ad",
   "metadata": {},
   "outputs": [],
   "source": [
    "km = KMeans(n_clusters=5,\n",
    "            init='k-means++',\n",
    "            n_init=10,\n",
    "            max_iter=300,\n",
    "            tol=1e-04,\n",
    "            random_state=0)\n",
    "y_km = km.fit_predict(X_std2)\n",
    "\n",
    "X_std_cl = pd.DataFrame()\n",
    "X = pd.DataFrame(X)\n",
    "X_std_cl['Cluster'] = y_km\n",
    "X_std_cl['Depression'] = X_std[[0]]   #NEED TO FIND COLUMN ID\n",
    "X_std_cl['Attend'] = X_std[[5]]\n",
    "X_std_cl['Married'] = X_std[[6]]\n",
    "\n",
    "X_train, X_test, y_train, y_test = train_test_split(X_std_cl, y, test_size = 0.3, random_state = 1)   #Split Data"
   ]
  },
  {
   "cell_type": "code",
   "execution_count": 95,
   "id": "82152b5b-b8b5-47ee-bf8e-608cd8ad81b0",
   "metadata": {
    "tags": []
   },
   "outputs": [
    {
     "name": "stdout",
     "output_type": "stream",
     "text": [
      "\n",
      "Logistic Regression:\n",
      "Mean Squared Error: 0.29\n",
      "R-squared: -0.27\n"
     ]
    }
   ],
   "source": [
    "#Model as Shown in Original Paper\n",
    "\n",
    "from sklearn.metrics import mean_squared_error, mean_absolute_error, r2_score\n",
    "\n",
    "lr = LogisticRegression()              #Logistic Regression\n",
    "sc = StandardScaler()                  #Scale Data\n",
    "\n",
    "sc.fit(X)\n",
    "X = sc.transform(X)\n",
    "y = np.ravel(y)\n",
    "\n",
    "lr.fit(X, y)\n",
    "\n",
    "# Make predictions on the test data                        \n",
    "y_pred = lr.predict(X)\n",
    "\n",
    "# Evaluate the model\n",
    "mse = mean_squared_error(y, y_pred)\n",
    "r2 = r2_score(y, y_pred)\n",
    "\n",
    "print(\"\\nLogistic Regression:\")\n",
    "print(f\"Mean Squared Error: {mse:.2f}\")\n",
    "print(f\"R-squared: {r2:.2f}\")\n"
   ]
  },
  {
   "cell_type": "code",
   "execution_count": 96,
   "id": "dd5be3ed-f123-4f4c-8b7e-c0969d99cc87",
   "metadata": {},
   "outputs": [
    {
     "name": "stdout",
     "output_type": "stream",
     "text": [
      "Logistic Regression Training Accuracy: 0.68688293370945\n"
     ]
    }
   ],
   "source": [
    "#Make Predictions on Training Set\n",
    "\n",
    "y_train = pd.DataFrame(y_train)\n",
    "X_train = pd.DataFrame(X_train)\n",
    "\n",
    "y_train.dropna\n",
    "X_train.dropna\n",
    "\n",
    "lr = LogisticRegression()                                #Logistic Regression\n",
    "y_train = np.ravel(y_train)\n",
    "lr.fit(X_train, y_train)\n",
    "\n",
    "print(\"Logistic Regression Training Accuracy:\", lr.score(X_train, y_train))\n"
   ]
  },
  {
   "cell_type": "code",
   "execution_count": 97,
   "id": "421b40d5-34ec-480e-b57a-38903570abc5",
   "metadata": {},
   "outputs": [
    {
     "name": "stdout",
     "output_type": "stream",
     "text": [
      "\n",
      "Logistic Regression:\n",
      "Mean Squared Error: 0.28\n",
      "R-squared: -0.23\n"
     ]
    }
   ],
   "source": [
    "# Make predictions on the test data                       \n",
    "y_pred = lr.predict(X_test)\n",
    "\n",
    "# Evaluate the model\n",
    "mse = mean_squared_error(y_test, y_pred)\n",
    "r2 = r2_score(y_test, y_pred)\n",
    "\n",
    "print(\"\\nLogistic Regression:\")\n",
    "print(f\"Mean Squared Error: {mse:.2f}\")\n",
    "print(f\"R-squared: {r2:.2f}\")"
   ]
  }
 ],
 "metadata": {
  "kernelspec": {
   "display_name": "Python 3",
   "language": "python",
   "name": "python3"
  },
  "language_info": {
   "codemirror_mode": {
    "name": "ipython",
    "version": 3
   },
   "file_extension": ".py",
   "mimetype": "text/x-python",
   "name": "python",
   "nbconvert_exporter": "python",
   "pygments_lexer": "ipython3",
   "version": "3.8.8"
  }
 },
 "nbformat": 4,
 "nbformat_minor": 5
}
