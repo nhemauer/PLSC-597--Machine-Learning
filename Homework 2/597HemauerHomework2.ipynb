{
 "cells": [
  {
   "cell_type": "code",
   "execution_count": 1,
   "id": "8716b4f6-6f41-4774-9b61-385b38304a17",
   "metadata": {},
   "outputs": [],
   "source": [
    "import numpy as np\n",
    "import pandas as pd\n",
    "import matplotlib.pyplot as plt\n",
    "from sklearn.model_selection import train_test_split\n",
    "import csv"
   ]
  },
  {
   "cell_type": "code",
   "execution_count": 10,
   "id": "fbe42ccd-a528-4abb-993b-b56f0e49c248",
   "metadata": {},
   "outputs": [
    {
     "name": "stdout",
     "output_type": "stream",
     "text": [
      "         0    1    2    3    4    5    6    7    8    9  ... Hispanic Black  \\\n",
      "1        2  3.0  1.0  2.0  3.0  4.0  2.0  1.0  3.0  3.0  ...      0.0   0.0   \n",
      "2        3  2.0  2.0  2.0  3.0  2.0  2.0  2.0  3.0  2.0  ...      0.0   0.0   \n",
      "3        4  3.0  3.0  4.0  2.0  2.0  4.0  2.0  3.0  2.0  ...      0.0   0.0   \n",
      "4        5  3.0  2.0  3.0  2.0  3.0  1.0  3.0  2.0  3.0  ...      0.0   1.0   \n",
      "5        6  1.0  1.0  1.0  1.0  1.0  1.0  2.0  1.0  1.0  ...      0.0   0.0   \n",
      "...    ...  ...  ...  ...  ...  ...  ...  ...  ...  ...  ...      ...   ...   \n",
      "1010  1011  2.0  1.0  4.0  2.0  1.0  4.0  3.0  4.0  4.0  ...      0.0   0.0   \n",
      "1011  1012  1.0  1.0  2.0  2.0  1.0  1.0  2.0  3.0  2.0  ...      0.0   0.0   \n",
      "1012  1013  3.0  1.0  3.0  1.0  3.0  2.0  3.0  1.0  1.0  ...      0.0   0.0   \n",
      "1013  1014  2.0  2.0  2.0  1.0  3.0  3.0  2.0  2.0  2.0  ...      0.0   0.0   \n",
      "1014  1015  3.0  1.0  1.0  4.0  3.0  3.0  2.0  4.0  3.0  ...      0.0   0.0   \n",
      "\n",
      "     Income Married Attend Unemployed          32    33    34          35  \n",
      "1       9.0     0.0    4.0        0.0         1.0   0.5  0.75        0.75  \n",
      "2       5.0     0.0    1.0        0.0  0.33333334   0.5   0.5  0.44444445  \n",
      "3       4.0     0.0    1.0        0.0   0.6666667  0.75   1.0   0.8055556  \n",
      "4       2.0     0.0    2.0        0.0  0.33333334   0.5   0.5  0.44444445  \n",
      "5      12.0     0.0    1.0        0.0  0.33333334   0.0   0.0  0.11111111  \n",
      "...     ...     ...    ...        ...         ...   ...   ...         ...  \n",
      "1010    4.0     1.0    1.0        1.0   0.6666667   1.0   0.5   0.7222222  \n",
      "1011    4.0     0.0    4.0        1.0         0.0  0.25   1.0  0.41666666  \n",
      "1012    1.0     0.0    5.0        0.0         1.0  0.25  0.25         0.5  \n",
      "1013    4.0     0.0    1.0        0.0  0.33333334   0.5  0.75   0.5277778  \n",
      "1014    2.0     0.0    1.0        1.0         1.0  0.25  0.25         0.5  \n",
      "\n",
      "[1014 rows x 36 columns]\n"
     ]
    }
   ],
   "source": [
    "with open('Homework2Data597.csv', mode = \"r\") as qualData:     #Importing data from CSV file\n",
    "    qualData = csv.reader(qualData)\n",
    "    qualData = pd.DataFrame(qualData)\n",
    "\n",
    "qualData = qualData.tail(-1)\n",
    "mapping = {qualData.columns[21]: 'Depression', qualData.columns[23]: 'Female', qualData.columns[24]: 'Age', qualData.columns[25]: 'Educ', qualData.columns[28]: 'Income', qualData.columns[30]: 'Attend', qualData.columns[29]: 'Married', qualData.columns[31]: 'Unemployed', qualData.columns[27]: 'Black', qualData.columns[26]: 'Hispanic'}\n",
    "qualData = qualData.rename(columns=mapping)\n",
    "\n",
    "print(qualData)"
   ]
  },
  {
   "cell_type": "code",
   "execution_count": 3,
   "id": "4a1382f6-1eeb-408a-9da1-d6f842a97556",
   "metadata": {},
   "outputs": [],
   "source": [
    "from sklearn.linear_model import LogisticRegression\n",
    "from sklearn.preprocessing import StandardScaler\n",
    "\n",
    "#X = qualData[[\"depression\", \"female\", \"age\", \"educ\", \"income\", \"attend\", \"married\", \"unemployed\", \"black\", \"hispanic\"]]\n",
    "\n",
    "#X = qualData[[21, 23, 24, 25, 28, 30, 29, 31, 27, 26]]   #Selecting columns\n",
    "X = qualData[[\"Depression\", \"Female\", \"Age\", \"Educ\", \"Income\", \"Attend\", \"Married\", \"Unemployed\", \"Black\", \"Hispanic\"]]\n",
    "y = qualData[[22]] #Voter turnout is the target variable\n",
    "\n",
    "X_train, X_test, y_train, y_test = train_test_split(X, y, test_size = 0.3, random_state = 1)   #Split Data\n",
    "\n",
    "sc = StandardScaler()                  #Scale Data\n",
    "sc.fit(X_train)\n",
    "X_train_std = sc.transform(X_train)\n",
    "X_test_std = sc.transform(X_test)\n"
   ]
  },
  {
   "cell_type": "code",
   "execution_count": 4,
   "id": "2a61f540-b206-47a0-87e3-28604e5972ef",
   "metadata": {},
   "outputs": [
    {
     "name": "stdout",
     "output_type": "stream",
     "text": [
      "Logistic Regression Training Accuracy: 0.7080394922425952\n",
      "SVM Training Training Accuracy: 0.8631875881523272\n",
      "Random Forest Training Accuracy: 0.998589562764457\n",
      "Regularized Logistic Regression Training Accuracy: 0.7066290550070522\n"
     ]
    }
   ],
   "source": [
    "lr = LogisticRegression()                                #Logistic Regression\n",
    "y_train = np.ravel(y_train)\n",
    "lr.fit(X_train_std, y_train)\n",
    "\n",
    "print(\"Logistic Regression Training Accuracy:\", lr.score(X_train_std, y_train))\n",
    "\n",
    "from sklearn.svm import SVC                                       #SVM\n",
    "svm = SVC(kernel='rbf', random_state=1, gamma=0.10, C=10.0)\n",
    "svm.fit(X_train_std, y_train)\n",
    "\n",
    "print(\"SVM Training Training Accuracy:\", svm.score(X_train_std, y_train))\n",
    "\n",
    "from sklearn.ensemble import RandomForestClassifier                        #Random Forest\n",
    "forest = RandomForestClassifier(n_estimators=25,\n",
    "                                random_state=1,\n",
    "                                n_jobs=2)\n",
    "forest.fit(X_train, y_train)                                              #Works really well when not scaled()\n",
    "\n",
    "print(\"Random Forest Training Accuracy:\", forest.score(X_train, y_train))\n",
    "\n",
    "lrr = LogisticRegression(penalty = 'l1', C = 1.0, solver = 'liblinear', multi_class = 'ovr') #Lasso\n",
    "y_train = np.ravel(y_train)\n",
    "lrr.fit(X_train_std, y_train)\n",
    "\n",
    "print(\"Regularized Logistic Regression Training Accuracy:\", lrr.score(X_train_std, y_train))\n"
   ]
  },
  {
   "cell_type": "code",
   "execution_count": 5,
   "id": "4b7b8f76-f898-4039-84cf-153f921f64a4",
   "metadata": {},
   "outputs": [
    {
     "name": "stdout",
     "output_type": "stream",
     "text": [
      "\n",
      "Logistic Regression:\n",
      "Mean Squared Error: 0.29\n",
      "R-squared: -0.26\n",
      "\n",
      "SVM Regression:\n",
      "Mean Squared Error: 0.29\n",
      "R-squared: -0.26\n",
      "\n",
      "Random Forest:\n",
      "Mean Squared Error: 0.32\n",
      "R-squared: -0.44\n",
      "\n",
      "Regularized Logistic Regression:\n",
      "Mean Squared Error: 0.28\n",
      "R-squared: -0.25\n"
     ]
    }
   ],
   "source": [
    "from sklearn.metrics import mean_squared_error, mean_absolute_error, r2_score\n",
    "\n",
    "# Make predictions on the test data                         Logistic Regression\n",
    "y_pred = lr.predict(X_test_std)\n",
    "\n",
    "# Evaluate the model\n",
    "mse = mean_squared_error(y_test, y_pred)\n",
    "r2 = r2_score(y_test, y_pred)\n",
    "\n",
    "print(\"\\nLogistic Regression:\")\n",
    "print(f\"Mean Squared Error: {mse:.2f}\")\n",
    "print(f\"R-squared: {r2:.2f}\")\n",
    "\n",
    "# Make predictions on the test data                         SVM\n",
    "y_pred = svm.predict(X_test_std)\n",
    "\n",
    "# Evaluate the model\n",
    "mse = mean_squared_error(y_test, y_pred)\n",
    "r2 = r2_score(y_test, y_pred)\n",
    "\n",
    "print(\"\\nSVM Regression:\")\n",
    "print(f\"Mean Squared Error: {mse:.2f}\")\n",
    "print(f\"R-squared: {r2:.2f}\")\n",
    "\n",
    "# Make predictions on the test data                        Random Forest\n",
    "y_pred = forest.predict(X_test)\n",
    "\n",
    "# Evaluate the model\n",
    "mse = mean_squared_error(y_test, y_pred)\n",
    "r2 = r2_score(y_test, y_pred)\n",
    "\n",
    "print(\"\\nRandom Forest:\")\n",
    "print(f\"Mean Squared Error: {mse:.2f}\")\n",
    "print(f\"R-squared: {r2:.2f}\")\n",
    "\n",
    "# Make predictions on the test data                       Regularized Logistic Regression\n",
    "y_pred = lrr.predict(X_test_std)\n",
    "\n",
    "# Evaluate the model\n",
    "mse = mean_squared_error(y_test, y_pred)\n",
    "r2 = r2_score(y_test, y_pred)\n",
    "\n",
    "print(\"\\nRegularized Logistic Regression:\")\n",
    "print(f\"Mean Squared Error: {mse:.2f}\")\n",
    "print(f\"R-squared: {r2:.2f}\")\n"
   ]
  },
  {
   "cell_type": "code",
   "execution_count": 6,
   "id": "551150f3-a41b-4608-8710-bbc877f43336",
   "metadata": {},
   "outputs": [
    {
     "name": "stdout",
     "output_type": "stream",
     "text": [
      "[-0.00393443  0.01245902  0.08        0.02295082  0.00459016 -0.00196721\n",
      " -0.00065574  0.00065574 -0.00459016 -0.00262295]\n"
     ]
    },
    {
     "data": {
      "image/png": "[encoded data removed]",
      "text/plain": [
       "<Figure size 432x288 with 1 Axes>"
      ]
     },
     "metadata": {
      "needs_background": "light"
     },
     "output_type": "display_data"
    }
   ],
   "source": [
    "from sklearn.inspection import permutation_importance\n",
    "\n",
    "# Calculate permutation importance\n",
    "perm_importance = permutation_importance(lr, X_test_std, y_test)\n",
    "\n",
    "# Access the importance scores\n",
    "feature_perm = perm_importance.importances_mean\n",
    "\n",
    "print(feature_perm)\n",
    "\n",
    "\n",
    "#Plot the most important features\n",
    "\n",
    "sorted_importances_idx = perm_importance.importances_mean.argsort()\n",
    "importances = pd.DataFrame(\n",
    "    perm_importance.importances[sorted_importances_idx].T,\n",
    "    columns=X.columns[sorted_importances_idx],)\n",
    "\n",
    "LRP = importances.plot.box(vert=False, whis=10)\n",
    "LRP.set_title(\"Logistic Regression Permutation Importances (test set)\")\n",
    "LRP.axvline(x=0, color=\"k\", linestyle=\"--\")\n",
    "LRP.set_xlabel(\"Feature Importance\")\n",
    "LRP.figure.tight_layout()"
   ]
  },
  {
   "cell_type": "code",
   "execution_count": 7,
   "id": "bf102ba4-6624-4327-8338-9c9d00b1ef6b",
   "metadata": {},
   "outputs": [
    {
     "name": "stdout",
     "output_type": "stream",
     "text": [
      "[-0.01639344  0.01508197  0.07213115  0.04721311  0.02819672  0.01639344\n",
      "  0.02163934  0.00721311  0.0104918   0.02098361]\n"
     ]
    },
    {
     "data": {
      "image/png": "[encoded data removed]",
      "text/plain": [
       "<Figure size 432x288 with 1 Axes>"
      ]
     },
     "metadata": {
      "needs_background": "light"
     },
     "output_type": "display_data"
    }
   ],
   "source": [
    "# Calculate permutation importance\n",
    "perm_importance = permutation_importance(svm, X_test_std, y_test)\n",
    "\n",
    "# Access the importance scores\n",
    "feature_perm = perm_importance.importances_mean\n",
    "\n",
    "print(feature_perm)\n",
    "\n",
    "\n",
    "#Plot the most important features\n",
    "\n",
    "sorted_importances_idx = perm_importance.importances_mean.argsort()\n",
    "importances = pd.DataFrame(\n",
    "    perm_importance.importances[sorted_importances_idx].T,\n",
    "    columns=X.columns[sorted_importances_idx],)\n",
    "\n",
    "LRP = importances.plot.box(vert=False, whis=10)\n",
    "LRP.set_title(\"SVM Permutation Importances (test set)\")\n",
    "LRP.axvline(x=0, color=\"k\", linestyle=\"--\")\n",
    "LRP.set_xlabel(\"Feature Importance\")\n",
    "LRP.figure.tight_layout()"
   ]
  },
  {
   "cell_type": "code",
   "execution_count": 8,
   "id": "3339a58e-2869-479e-9dfb-ab10680e4eff",
   "metadata": {},
   "outputs": [
    {
     "name": "stdout",
     "output_type": "stream",
     "text": [
      "[-0.01508197  0.00786885  0.06229508  0.03934426 -0.00786885 -0.01245902\n",
      " -0.01377049 -0.00459016 -0.00262295 -0.00131148]\n"
     ]
    },
    {
     "data": {
      "image/png": "[encoded data removed]",
      "text/plain": [
       "<Figure size 432x288 with 1 Axes>"
      ]
     },
     "metadata": {
      "needs_background": "light"
     },
     "output_type": "display_data"
    }
   ],
   "source": [
    "# Calculate permutation importance\n",
    "perm_importance = permutation_importance(forest, X_test, y_test)\n",
    "\n",
    "# Access the importance scores\n",
    "feature_perm = perm_importance.importances_mean\n",
    "\n",
    "print(feature_perm)\n",
    "\n",
    "\n",
    "#Plot the most important features\n",
    "\n",
    "sorted_importances_idx = perm_importance.importances_mean.argsort()\n",
    "importances = pd.DataFrame(\n",
    "    perm_importance.importances[sorted_importances_idx].T,\n",
    "    columns=X.columns[sorted_importances_idx],)\n",
    "\n",
    "LRP = importances.plot.box(vert=False, whis=10)\n",
    "LRP.set_title(\"Random Forest Permutation Importances (test set)\")\n",
    "LRP.axvline(x=0, color=\"k\", linestyle=\"--\")\n",
    "LRP.set_xlabel(\"Feature Importance\")\n",
    "LRP.figure.tight_layout()"
   ]
  },
  {
   "cell_type": "code",
   "execution_count": 9,
   "id": "bc6854b6-3c16-4a64-9001-3ed75fdcc95c",
   "metadata": {},
   "outputs": [
    {
     "name": "stdout",
     "output_type": "stream",
     "text": [
      "[ 0.00065574  0.00262295  0.09901639  0.01377049  0.00590164  0.00983607\n",
      "  0.00393443 -0.00131148 -0.00196721 -0.00196721]\n"
     ]
    },
    {
     "data": {
      "image/png": "[encoded data removed]",
      "text/plain": [
       "<Figure size 432x288 with 1 Axes>"
      ]
     },
     "metadata": {
      "needs_background": "light"
     },
     "output_type": "display_data"
    }
   ],
   "source": [
    "# Calculate permutation importance\n",
    "perm_importance = permutation_importance(lrr, X_test_std, y_test)\n",
    "\n",
    "# Access the importance scores\n",
    "feature_perm = perm_importance.importances_mean\n",
    "\n",
    "print(feature_perm)\n",
    "\n",
    "\n",
    "#Plot the most important features\n",
    "\n",
    "sorted_importances_idx = perm_importance.importances_mean.argsort()\n",
    "importances = pd.DataFrame(\n",
    "    perm_importance.importances[sorted_importances_idx].T,\n",
    "    columns=X.columns[sorted_importances_idx],)\n",
    "\n",
    "LRP = importances.plot.box(vert=False, whis=10)\n",
    "LRP.set_title(\"Regularized Logistic Regression Permutation Importances (test set)\")\n",
    "LRP.axvline(x=0, color=\"k\", linestyle=\"--\")\n",
    "LRP.set_xlabel(\"Feature Importance\")\n",
    "LRP.figure.tight_layout()"
   ]
  }
 ],
 "metadata": {
  "kernelspec": {
   "display_name": "Python 3",
   "language": "python",
   "name": "python3"
  },
  "language_info": {
   "codemirror_mode": {
    "name": "ipython",
    "version": 3
   },
   "file_extension": ".py",
   "mimetype": "text/x-python",
   "name": "python",
   "nbconvert_exporter": "python",
   "pygments_lexer": "ipython3",
   "version": "3.8.8"
  }
 },
 "nbformat": 4,
 "nbformat_minor": 5
}
