{
 "cells": [
  {
   "cell_type": "code",
   "execution_count": 1,
   "id": "6d6542fe-cc7e-44f0-bad4-b6fe67a2ecb6",
   "metadata": {},
   "outputs": [],
   "source": [
    "import numpy as np\n",
    "import pandas as pd\n",
    "import matplotlib.pyplot as plt\n",
    "from sklearn.model_selection import train_test_split\n",
    "import csv"
   ]
  },
  {
   "cell_type": "code",
   "execution_count": 75,
   "id": "1fb9dea8-6cc2-4094-a6c1-dd793b70ffb2",
   "metadata": {},
   "outputs": [
    {
     "name": "stdout",
     "output_type": "stream",
     "text": [
      "0    gender race rural christian    education       income vaccine\n",
      "1         2    1     1         1  0.166666667  0.272727273       1\n",
      "2         2    2     2         2  0.166666667            0     1.5\n",
      "3         2    1     3         2  0.166666667  0.272727273       1\n",
      "4         1    1     1         2  0.333333333  0.545454545       1\n",
      "5         2    1     2         2  0.333333333  0.909090909       1\n",
      "...     ...  ...   ...       ...          ...          ...     ...\n",
      "2177      2    2     2         2          0.5  0.454545455       1\n",
      "2178      2    2     1         2  0.833333333            1     1.5\n",
      "2179      2    2     3         1  0.166666667            0       1\n",
      "2180      1    2     2         1          0.5  0.818181818     1.5\n",
      "2181      2    2     1         1  0.333333333  0.181818182       2\n",
      "\n",
      "[2181 rows x 7 columns]\n"
     ]
    }
   ],
   "source": [
    "with open('poqData.csv', mode = \"r\") as poqData:\n",
    "    poq_Data = csv.reader(poqData)\n",
    "    poq_Data = pd.DataFrame(poq_Data)\n",
    "\n",
    "poq_Data.columns = poq_Data.iloc[0]\n",
    "poq_Data = poq_Data.tail(-1)\n",
    "del poq_Data[poq_Data.columns[0]]\n",
    "print(poq_Data)\n"
   ]
  },
  {
   "cell_type": "code",
   "execution_count": 79,
   "id": "cb2a7945-51ca-4524-96b3-405ba6cf2f29",
   "metadata": {},
   "outputs": [
    {
     "name": "stdout",
     "output_type": "stream",
     "text": [
      "Training Data:\n",
      "0    gender race rural christian    education       income vaccine\n",
      "1787      2    1     2         2  0.166666667  0.818181818       2\n",
      "524       2    1     3         2          0.5  0.545454545       1\n",
      "1158      2    2     1         2            0  0.090909091       2\n",
      "1661      2    2     1         2  0.666666667  0.363636364       1\n",
      "738       1    1     1         2  0.166666667  0.090909091       2\n",
      "\n",
      "Test Data:\n",
      "0    gender race rural christian    education       income vaccine\n",
      "1657      1    2     1         2  0.833333333  0.090909091       2\n",
      "331       2    1     2         2  0.833333333            1    1.75\n",
      "1075      1    2     1         2  0.166666667  0.181818182       1\n",
      "1490      1    2     1         2  0.166666667  0.272727273     1.5\n",
      "863       2    1     1         2  0.666666667  0.363636364       2\n",
      "Model with all covariates:\n",
      "Intercept (beta_0): 1.274691910054617\n",
      "Coefficient for gender (beta_1): 0.0970815077523757\n",
      "Coefficient for race (beta_2): 0.10673089959982872\n",
      "Coefficient for rural (beta_2): 0.022503770611954868\n",
      "Coefficient for christianity (beta_2): -0.03572110408542371\n",
      "Coefficient for education (beta_2): -0.23993035977848792\n",
      "Coefficient for income (beta_2): -0.10781928874000961\n",
      "\n",
      "\n",
      "Model with all covariates:\n",
      "Intercept (beta_0): 1.3309794062467566\n",
      "Coefficient for gender (beta_1): 0.0984545431345682\n",
      "Coefficient for race (beta_2): 0.09695236602564707\n",
      "Coefficient for christianity (beta_2): -0.036689101385941655\n",
      "Coefficient for education (beta_2): -0.24027396420060965\n",
      "Coefficient for income (beta_2): -0.11034708842604682\n",
      "\n",
      "\n"
     ]
    }
   ],
   "source": [
    "train_df, test_df = train_test_split(poq_Data, test_size=0.3, random_state=32)\n",
    "\n",
    "print(\"Training Data:\")\n",
    "print(train_df.head())\n",
    "print(\"\\nTest Data:\")\n",
    "print(test_df.head())\n",
    "\n",
    "#poq_Data = poq_Data.replace(np.where(), )\n",
    "\n",
    "from sklearn.linear_model import LinearRegression\n",
    "\n",
    "# 1. Model with both X and Z as covariates\n",
    "\n",
    "# Fit the model\n",
    "model_full = LinearRegression().fit(train_df[['gender', 'race', 'rural', 'christian', 'education', 'income']], train_df['vaccine'])\n",
    "#income and education may be backwards in their scaling... idk\n",
    "\n",
    "# Print coefficients and intercept\n",
    "print(\"Model with all covariates:\")\n",
    "print(\"Intercept (beta_0):\", model_full.intercept_)\n",
    "print(\"Coefficient for gender (beta_1):\", model_full.coef_[0])\n",
    "print(\"Coefficient for race (beta_2):\", model_full.coef_[1])\n",
    "print(\"Coefficient for rural (beta_2):\", model_full.coef_[2])\n",
    "print(\"Coefficient for christianity (beta_2):\", model_full.coef_[3])\n",
    "print(\"Coefficient for education (beta_2):\", model_full.coef_[4])\n",
    "print(\"Coefficient for income (beta_2):\", model_full.coef_[5])\n",
    "print(\"\\n\")\n",
    "\n",
    "model_short = LinearRegression().fit(train_df[['gender', 'race', 'christian', 'education', 'income']], train_df['vaccine'])\n",
    "#income and education may be backwards in their scaling... idk\n",
    "\n",
    "# Print coefficients and intercept\n",
    "print(\"Model with short covariates:\")\n",
    "print(\"Intercept (beta_0):\", model_short.intercept_)\n",
    "print(\"Coefficient for gender (beta_1):\", model_short.coef_[0])\n",
    "print(\"Coefficient for race (beta_2):\", model_short.coef_[1])\n",
    "print(\"Coefficient for christianity (beta_2):\", model_short.coef_[2])\n",
    "print(\"Coefficient for education (beta_2):\", model_short.coef_[3])\n",
    "print(\"Coefficient for income (beta_2):\", model_short.coef_[4])\n",
    "print(\"\\n\")\n"
   ]
  },
  {
   "cell_type": "code",
   "execution_count": 82,
   "id": "4770a9ac-8249-4dec-81ea-4c8b7a3dab37",
   "metadata": {},
   "outputs": [
    {
     "name": "stdout",
     "output_type": "stream",
     "text": [
      "MSE for the model with all covariates: 0.1423789772287282\n",
      "MSE for the model with short covariates: 0.14155497303231734\n"
     ]
    }
   ],
   "source": [
    "from sklearn.metrics import mean_squared_error\n",
    "\n",
    "# Predict Y values on the test dataset using both models\n",
    "\n",
    "# 1. Model with both X and Z as covariates\n",
    "y_pred_full = model_full.predict(test_df[['gender', 'race', 'rural', 'christian', 'education', 'income']])\n",
    "mse_full = mean_squared_error(test_df['vaccine'], y_pred_full)\n",
    "\n",
    "# 2. Model with only X as a covariate\n",
    "y_pred_short = model_short.predict(test_df[['gender', 'race', 'christian', 'education', 'income']])\n",
    "mse_short = mean_squared_error(test_df['vaccine'], y_pred_short)\n",
    "\n",
    "# Print the Mean Squared Errors for both models\n",
    "print(\"MSE for the model with all covariates:\", mse_full)\n",
    "print(\"MSE for the model with short covariates:\", mse_short)"
   ]
  }
 ],
 "metadata": {
  "kernelspec": {
   "display_name": "Python 3",
   "language": "python",
   "name": "python3"
  },
  "language_info": {
   "codemirror_mode": {
    "name": "ipython",
    "version": 3
   },
   "file_extension": ".py",
   "mimetype": "text/x-python",
   "name": "python",
   "nbconvert_exporter": "python",
   "pygments_lexer": "ipython3",
   "version": "3.8.8"
  }
 },
 "nbformat": 4,
 "nbformat_minor": 5
}
